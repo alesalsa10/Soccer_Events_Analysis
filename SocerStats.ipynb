{
 "cells": [
  {
   "cell_type": "markdown",
   "metadata": {},
   "source": [
    "The data was first cleaned up using SQL\n",
    "Player analysis using the 'Football Events' dataset from kaggle. The data was last updated 4 years ago per kaggle's website. If I find new similar data I will update this project"
   ]
  },
  {
   "cell_type": "code",
   "execution_count": 1,
   "metadata": {
    "scrolled": false
   },
   "outputs": [
    {
     "data": {
      "text/html": [
       "<div>\n",
       "<style scoped>\n",
       "    .dataframe tbody tr th:only-of-type {\n",
       "        vertical-align: middle;\n",
       "    }\n",
       "\n",
       "    .dataframe tbody tr th {\n",
       "        vertical-align: top;\n",
       "    }\n",
       "\n",
       "    .dataframe thead th {\n",
       "        text-align: right;\n",
       "    }\n",
       "</style>\n",
       "<table border=\"1\" class=\"dataframe\">\n",
       "  <thead>\n",
       "    <tr style=\"text-align: right;\">\n",
       "      <th></th>\n",
       "      <th>player</th>\n",
       "      <th>totalAttemps</th>\n",
       "      <th>goals</th>\n",
       "      <th>successPercentage</th>\n",
       "    </tr>\n",
       "  </thead>\n",
       "  <tbody>\n",
       "    <tr>\n",
       "      <th>0</th>\n",
       "      <td>miroslav klose</td>\n",
       "      <td>205</td>\n",
       "      <td>51</td>\n",
       "      <td>24.878049</td>\n",
       "    </tr>\n",
       "    <tr>\n",
       "      <th>1</th>\n",
       "      <td>carlos bacca</td>\n",
       "      <td>230</td>\n",
       "      <td>57</td>\n",
       "      <td>24.782609</td>\n",
       "    </tr>\n",
       "    <tr>\n",
       "      <th>2</th>\n",
       "      <td>diego costa</td>\n",
       "      <td>410</td>\n",
       "      <td>93</td>\n",
       "      <td>22.682927</td>\n",
       "    </tr>\n",
       "    <tr>\n",
       "      <th>3</th>\n",
       "      <td>alexandre lacazette</td>\n",
       "      <td>391</td>\n",
       "      <td>88</td>\n",
       "      <td>22.506394</td>\n",
       "    </tr>\n",
       "    <tr>\n",
       "      <th>4</th>\n",
       "      <td>lionel messi</td>\n",
       "      <td>914</td>\n",
       "      <td>205</td>\n",
       "      <td>22.428884</td>\n",
       "    </tr>\n",
       "  </tbody>\n",
       "</table>\n",
       "</div>"
      ],
      "text/plain": [
       "                player  totalAttemps  goals  successPercentage\n",
       "0       miroslav klose           205     51          24.878049\n",
       "1         carlos bacca           230     57          24.782609\n",
       "2          diego costa           410     93          22.682927\n",
       "3  alexandre lacazette           391     88          22.506394\n",
       "4         lionel messi           914    205          22.428884"
      ]
     },
     "execution_count": 1,
     "metadata": {},
     "output_type": "execute_result"
    }
   ],
   "source": [
    "import pandas as pd\n",
    "goalSuccess = pd.read_csv(\"C:/Users/alesa/OneDrive/Documents/goalsSuccess.csv\", header=None, names=['player','totalAttemps', 'goals', 'successPercentage'])\n",
    "goalSuccess.head() "
   ]
  },
  {
   "cell_type": "markdown",
   "metadata": {},
   "source": [
    "Sorting the top 10 players by goal success rate"
   ]
  },
  {
   "cell_type": "code",
   "execution_count": 2,
   "metadata": {},
   "outputs": [
    {
     "data": {
      "image/png": "[encoded data removed]",
      "text/plain": [
       "<Figure size 720x504 with 1 Axes>"
      ]
     },
     "metadata": {
      "needs_background": "light"
     },
     "output_type": "display_data"
    }
   ],
   "source": [
    "top10 = goalSuccess.iloc[0:10]\n",
    "ax = top10[['player', 'successPercentage']].plot.barh(x='player', y='successPercentage', legend=False, figsize=(10,7), fontsize=12)\n",
    "ax.set_xlabel('Success Percentage')\n",
    "ax.invert_yaxis()"
   ]
  },
  {
   "cell_type": "code",
   "execution_count": 3,
   "metadata": {},
   "outputs": [
    {
     "data": {
      "text/html": [
       "<div>\n",
       "<style scoped>\n",
       "    .dataframe tbody tr th:only-of-type {\n",
       "        vertical-align: middle;\n",
       "    }\n",
       "\n",
       "    .dataframe tbody tr th {\n",
       "        vertical-align: top;\n",
       "    }\n",
       "\n",
       "    .dataframe thead th {\n",
       "        text-align: right;\n",
       "    }\n",
       "</style>\n",
       "<table border=\"1\" class=\"dataframe\">\n",
       "  <thead>\n",
       "    <tr style=\"text-align: right;\">\n",
       "      <th></th>\n",
       "      <th>player</th>\n",
       "      <th>totalAttemps</th>\n",
       "      <th>goals</th>\n",
       "      <th>successPercentage</th>\n",
       "    </tr>\n",
       "  </thead>\n",
       "  <tbody>\n",
       "    <tr>\n",
       "      <th>0</th>\n",
       "      <td>ignacio camacho</td>\n",
       "      <td>54</td>\n",
       "      <td>13</td>\n",
       "      <td>24.074074</td>\n",
       "    </tr>\n",
       "    <tr>\n",
       "      <th>1</th>\n",
       "      <td>pierreemerick aubameyang</td>\n",
       "      <td>59</td>\n",
       "      <td>14</td>\n",
       "      <td>23.728814</td>\n",
       "    </tr>\n",
       "    <tr>\n",
       "      <th>2</th>\n",
       "      <td>diego costa</td>\n",
       "      <td>64</td>\n",
       "      <td>15</td>\n",
       "      <td>23.437500</td>\n",
       "    </tr>\n",
       "    <tr>\n",
       "      <th>3</th>\n",
       "      <td>cristiano ronaldo</td>\n",
       "      <td>159</td>\n",
       "      <td>36</td>\n",
       "      <td>22.641509</td>\n",
       "    </tr>\n",
       "    <tr>\n",
       "      <th>4</th>\n",
       "      <td>mario mandzukic</td>\n",
       "      <td>124</td>\n",
       "      <td>28</td>\n",
       "      <td>22.580645</td>\n",
       "    </tr>\n",
       "  </tbody>\n",
       "</table>\n",
       "</div>"
      ],
      "text/plain": [
       "                     player  totalAttemps  goals  successPercentage\n",
       "0           ignacio camacho            54     13          24.074074\n",
       "1  pierreemerick aubameyang            59     14          23.728814\n",
       "2               diego costa            64     15          23.437500\n",
       "3         cristiano ronaldo           159     36          22.641509\n",
       "4           mario mandzukic           124     28          22.580645"
      ]
     },
     "execution_count": 3,
     "metadata": {},
     "output_type": "execute_result"
    }
   ],
   "source": [
    "headers = pd.read_csv(\"C:/Users/alesa/OneDrive/Documents/header.csv\", header=None, names=['player','totalAttemps', 'goals', 'successPercentage'])\n",
    "headers.head()"
   ]
  },
  {
   "cell_type": "markdown",
   "metadata": {},
   "source": [
    "Sorting top 10 players by header success"
   ]
  },
  {
   "cell_type": "code",
   "execution_count": 4,
   "metadata": {
    "scrolled": true
   },
   "outputs": [
    {
     "data": {
      "image/png": "[encoded data removed]",
      "text/plain": [
       "<Figure size 720x504 with 1 Axes>"
      ]
     },
     "metadata": {
      "needs_background": "light"
     },
     "output_type": "display_data"
    }
   ],
   "source": [
    "top10Headers = headers.iloc[0:10]\n",
    "ax = top10Headers[['player', 'successPercentage']].plot.barh(x='player', y='successPercentage', legend=False, figsize=(10,7), fontsize=12)\n",
    "ax.set_xlabel('Success Percentage')\n",
    "ax.invert_yaxis()"
   ]
  },
  {
   "cell_type": "code",
   "execution_count": 5,
   "metadata": {},
   "outputs": [
    {
     "data": {
      "text/html": [
       "<div>\n",
       "<style scoped>\n",
       "    .dataframe tbody tr th:only-of-type {\n",
       "        vertical-align: middle;\n",
       "    }\n",
       "\n",
       "    .dataframe tbody tr th {\n",
       "        vertical-align: top;\n",
       "    }\n",
       "\n",
       "    .dataframe thead th {\n",
       "        text-align: right;\n",
       "    }\n",
       "</style>\n",
       "<table border=\"1\" class=\"dataframe\">\n",
       "  <thead>\n",
       "    <tr style=\"text-align: right;\">\n",
       "      <th></th>\n",
       "      <th>player</th>\n",
       "      <th>totalAttemps</th>\n",
       "      <th>goals</th>\n",
       "      <th>successPercentage</th>\n",
       "    </tr>\n",
       "  </thead>\n",
       "  <tbody>\n",
       "    <tr>\n",
       "      <th>0</th>\n",
       "      <td>diego costa</td>\n",
       "      <td>111</td>\n",
       "      <td>25</td>\n",
       "      <td>22.522523</td>\n",
       "    </tr>\n",
       "    <tr>\n",
       "      <th>1</th>\n",
       "      <td>lionel messi</td>\n",
       "      <td>752</td>\n",
       "      <td>167</td>\n",
       "      <td>22.207447</td>\n",
       "    </tr>\n",
       "    <tr>\n",
       "      <th>2</th>\n",
       "      <td>robert lewandowski</td>\n",
       "      <td>114</td>\n",
       "      <td>24</td>\n",
       "      <td>21.052632</td>\n",
       "    </tr>\n",
       "    <tr>\n",
       "      <th>3</th>\n",
       "      <td>zlatan ibrahimovic</td>\n",
       "      <td>129</td>\n",
       "      <td>25</td>\n",
       "      <td>19.379845</td>\n",
       "    </tr>\n",
       "    <tr>\n",
       "      <th>4</th>\n",
       "      <td>sejad salihovic</td>\n",
       "      <td>130</td>\n",
       "      <td>25</td>\n",
       "      <td>19.230769</td>\n",
       "    </tr>\n",
       "  </tbody>\n",
       "</table>\n",
       "</div>"
      ],
      "text/plain": [
       "               player  totalAttemps  goals  successPercentage\n",
       "0         diego costa           111     25          22.522523\n",
       "1        lionel messi           752    167          22.207447\n",
       "2  robert lewandowski           114     24          21.052632\n",
       "3  zlatan ibrahimovic           129     25          19.379845\n",
       "4     sejad salihovic           130     25          19.230769"
      ]
     },
     "execution_count": 5,
     "metadata": {},
     "output_type": "execute_result"
    }
   ],
   "source": [
    "leftFoot = pd.read_csv(\"C:/Users/alesa/OneDrive/Documents/leftFoot.csv\", header=None, names=['player','totalAttemps', 'goals', 'successPercentage'])\n",
    "leftFoot.head()"
   ]
  },
  {
   "cell_type": "markdown",
   "metadata": {},
   "source": [
    "Sorting top 10 by left foot success rate"
   ]
  },
  {
   "cell_type": "code",
   "execution_count": 7,
   "metadata": {},
   "outputs": [
    {
     "data": {
      "image/png": "[encoded data removed]",
      "text/plain": [
       "<Figure size 720x504 with 1 Axes>"
      ]
     },
     "metadata": {
      "needs_background": "light"
     },
     "output_type": "display_data"
    }
   ],
   "source": [
    "top10leftFootHitter = leftFoot.iloc[0:10]\n",
    "ax = top10leftFootHitter[['player', 'successPercentage']].plot.barh(x='player', y='successPercentage', legend=False, figsize=(10,7), fontsize=12)\n",
    "ax.set_xlabel('Success Percentage')\n",
    "ax.invert_yaxis()"
   ]
  },
  {
   "cell_type": "code",
   "execution_count": 8,
   "metadata": {},
   "outputs": [
    {
     "data": {
      "text/html": [
       "<div>\n",
       "<style scoped>\n",
       "    .dataframe tbody tr th:only-of-type {\n",
       "        vertical-align: middle;\n",
       "    }\n",
       "\n",
       "    .dataframe tbody tr th {\n",
       "        vertical-align: top;\n",
       "    }\n",
       "\n",
       "    .dataframe thead th {\n",
       "        text-align: right;\n",
       "    }\n",
       "</style>\n",
       "<table border=\"1\" class=\"dataframe\">\n",
       "  <thead>\n",
       "    <tr style=\"text-align: right;\">\n",
       "      <th></th>\n",
       "      <th>player</th>\n",
       "      <th>totalAttemps</th>\n",
       "      <th>goals</th>\n",
       "      <th>successPercentage</th>\n",
       "    </tr>\n",
       "  </thead>\n",
       "  <tbody>\n",
       "    <tr>\n",
       "      <th>0</th>\n",
       "      <td>cristiano ronaldo</td>\n",
       "      <td>159</td>\n",
       "      <td>36</td>\n",
       "      <td>22.641509</td>\n",
       "    </tr>\n",
       "    <tr>\n",
       "      <th>1</th>\n",
       "      <td>mario mandzukic</td>\n",
       "      <td>124</td>\n",
       "      <td>28</td>\n",
       "      <td>22.580645</td>\n",
       "    </tr>\n",
       "    <tr>\n",
       "      <th>2</th>\n",
       "      <td>fernando llorente</td>\n",
       "      <td>141</td>\n",
       "      <td>25</td>\n",
       "      <td>17.730496</td>\n",
       "    </tr>\n",
       "    <tr>\n",
       "      <th>3</th>\n",
       "      <td>anthony modeste</td>\n",
       "      <td>104</td>\n",
       "      <td>17</td>\n",
       "      <td>16.346154</td>\n",
       "    </tr>\n",
       "    <tr>\n",
       "      <th>4</th>\n",
       "      <td>aritz aduriz</td>\n",
       "      <td>112</td>\n",
       "      <td>18</td>\n",
       "      <td>16.071429</td>\n",
       "    </tr>\n",
       "  </tbody>\n",
       "</table>\n",
       "</div>"
      ],
      "text/plain": [
       "              player  totalAttemps  goals  successPercentage\n",
       "0  cristiano ronaldo           159     36          22.641509\n",
       "1    mario mandzukic           124     28          22.580645\n",
       "2  fernando llorente           141     25          17.730496\n",
       "3    anthony modeste           104     17          16.346154\n",
       "4       aritz aduriz           112     18          16.071429"
      ]
     },
     "execution_count": 8,
     "metadata": {},
     "output_type": "execute_result"
    }
   ],
   "source": [
    "rightFoot = pd.read_csv(\"C:/Users/alesa/OneDrive/Documents/rightFoot.csv\", header=None, names=['player','totalAttemps', 'goals', 'successPercentage'])\n",
    "rightFoot.head()"
   ]
  },
  {
   "cell_type": "markdown",
   "metadata": {},
   "source": [
    "Sorting players by right foot success rate"
   ]
  },
  {
   "cell_type": "code",
   "execution_count": 9,
   "metadata": {},
   "outputs": [
    {
     "data": {
      "image/png": "[encoded data removed]",
      "text/plain": [
       "<Figure size 720x504 with 1 Axes>"
      ]
     },
     "metadata": {
      "needs_background": "light"
     },
     "output_type": "display_data"
    }
   ],
   "source": [
    "top10RightFootHitters = rightFoot.iloc[0:10]\n",
    "ax = top10RightFootHitters[['player', 'successPercentage']].plot.barh(x='player', y='successPercentage', legend=False, figsize=(10,7), fontsize=12)\n",
    "ax.set_xlabel('Success Percentage')\n",
    "ax.invert_yaxis()"
   ]
  },
  {
   "cell_type": "code",
   "execution_count": 30,
   "metadata": {},
   "outputs": [
    {
     "data": {
      "text/html": [
       "<div>\n",
       "<style scoped>\n",
       "    .dataframe tbody tr th:only-of-type {\n",
       "        vertical-align: middle;\n",
       "    }\n",
       "\n",
       "    .dataframe tbody tr th {\n",
       "        vertical-align: top;\n",
       "    }\n",
       "\n",
       "    .dataframe thead th {\n",
       "        text-align: right;\n",
       "    }\n",
       "</style>\n",
       "<table border=\"1\" class=\"dataframe\">\n",
       "  <thead>\n",
       "    <tr style=\"text-align: right;\">\n",
       "      <th></th>\n",
       "      <th>player</th>\n",
       "      <th>totalAttempts</th>\n",
       "      <th>goals</th>\n",
       "      <th>onTarget</th>\n",
       "      <th>blocked</th>\n",
       "      <th>hitTheBar</th>\n",
       "      <th>offTarget</th>\n",
       "      <th>goalSuccessPercentage</th>\n",
       "      <th>assists</th>\n",
       "    </tr>\n",
       "  </thead>\n",
       "  <tbody>\n",
       "    <tr>\n",
       "      <th>0</th>\n",
       "      <td>lionel messi</td>\n",
       "      <td>914</td>\n",
       "      <td>205</td>\n",
       "      <td>230</td>\n",
       "      <td>236</td>\n",
       "      <td>26</td>\n",
       "      <td>217</td>\n",
       "      <td>22.428884</td>\n",
       "      <td>75</td>\n",
       "    </tr>\n",
       "    <tr>\n",
       "      <th>1</th>\n",
       "      <td>cristiano ronaldo</td>\n",
       "      <td>1190</td>\n",
       "      <td>198</td>\n",
       "      <td>311</td>\n",
       "      <td>242</td>\n",
       "      <td>29</td>\n",
       "      <td>410</td>\n",
       "      <td>16.638655</td>\n",
       "      <td>53</td>\n",
       "    </tr>\n",
       "  </tbody>\n",
       "</table>\n",
       "</div>"
      ],
      "text/plain": [
       "              player  totalAttempts  goals  onTarget  blocked  hitTheBar  \\\n",
       "0       lionel messi            914    205       230      236         26   \n",
       "1  cristiano ronaldo           1190    198       311      242         29   \n",
       "\n",
       "   offTarget  goalSuccessPercentage  assists  \n",
       "0        217              22.428884       75  \n",
       "1        410              16.638655       53  "
      ]
     },
     "execution_count": 30,
     "metadata": {},
     "output_type": "execute_result"
    }
   ],
   "source": [
    "messiRonaldo = pd.read_csv(\"C:/Users/alesa/OneDrive/Documents/messiRonaldo.csv\", header = None, names = ['player', 'totalAttempts', 'goals', 'onTarget', 'blocked', 'hitTheBar','offTarget', 'goalSuccessPercentage', 'assists' ])\n",
    "messiRonaldo.head()"
   ]
  },
  {
   "cell_type": "code",
   "execution_count": 77,
   "metadata": {},
   "outputs": [
    {
     "data": {
      "text/plain": [
       "<matplotlib.axes._subplots.AxesSubplot at 0x2b0c2ab3548>"
      ]
     },
     "execution_count": 77,
     "metadata": {},
     "output_type": "execute_result"
    },
    {
     "data": {
      "image/png": "[encoded data removed]",
      "text/plain": [
       "<Figure size 432x288 with 1 Axes>"
      ]
     },
     "metadata": {
      "needs_background": "light"
     },
     "output_type": "display_data"
    }
   ],
   "source": [
    "df = messiRonaldo[['goals', 'assists', 'player']]\n",
    "ax = pd.DataFrame(df)\n",
    "ax.set_index('player').plot.bar()"
   ]
  }
 ],
 "metadata": {
  "kernelspec": {
   "display_name": "Python 3",
   "language": "python",
   "name": "python3"
  },
  "language_info": {
   "codemirror_mode": {
    "name": "ipython",
    "version": 3
   },
   "file_extension": ".py",
   "mimetype": "text/x-python",
   "name": "python",
   "nbconvert_exporter": "python",
   "pygments_lexer": "ipython3",
   "version": "3.7.6"
  }
 },
 "nbformat": 4,
 "nbformat_minor": 4
}
